{
  "nbformat": 4,
  "nbformat_minor": 0,
  "metadata": {
    "colab": {
      "provenance": []
    },
    "kernelspec": {
      "name": "python3",
      "display_name": "Python 3"
    },
    "language_info": {
      "name": "python"
    }
  },
  "cells": [
    {
      "cell_type": "code",
      "execution_count": null,
      "metadata": {
        "id": "H2dIw0siMFxI"
      },
      "outputs": [],
      "source": []
    },
    {
      "cell_type": "markdown",
      "source": [
        "Q1.Explain string slicing and provide examples.\n",
        "\n",
        "Ans:- Sliciing is a process in which a sub-string is obtained from a string .\n",
        "\n",
        "It is done by using the indexes of a string ."
      ],
      "metadata": {
        "id": "2TAawnqKMNiI"
      }
    },
    {
      "cell_type": "code",
      "source": [
        "#examples of slicing are given below:-\n",
        "a=\"vijay\"\n",
        "a[0:4]\n",
        "# the above a[0:4] will print 'vija' as the start index that is 0 is inclusive\n",
        "#and the end index that is 4  is exclusive => this implies that\n",
        "# if a[start:end],in this start index is inclusive and end index is exclusive\n",
        "b=\"ajay\"\n",
        "b[-4:]"
      ],
      "metadata": {
        "id": "wiqbq7btMOrT"
      },
      "execution_count": null,
      "outputs": []
    },
    {
      "cell_type": "markdown",
      "source": [
        "Q2.Explain the key features of lists in python.\n",
        "\n",
        "Ans:- 1)List is collection of heterogenous data items i.e the list is capable of storing different data types .A list can store string ,int,float,bool,complex data type at a same time.\n",
        "\n",
        "2)lists are mutable in nature , they can be changed after their creation i.e item assignment is possible in lists.\n",
        "\n",
        "3)Item inside a list can be accesed by using both positive and negative index.\n",
        "\n",
        "4)In list the items are placed inside square brackets and the items are seperated by a comma(,)\n",
        "\n",
        "5)The elements or items inside a list can be iterated through a loop .\n",
        "\n",
        "6)Slcing is possible in lists ."
      ],
      "metadata": {
        "id": "Q7aOkjtwMdx4"
      }
    },
    {
      "cell_type": "markdown",
      "source": [
        "Q3.Explain how to access,modify and delete elements inside in a list with examples.\n",
        "\n",
        "ans:-The elements of the lists can be accesed ,modified and deleted by using the indexes"
      ],
      "metadata": {
        "id": "bZK_gn7dMhMG"
      }
    },
    {
      "cell_type": "code",
      "source": [
        "#example of accessing\n",
        "a=[\"anshik\",3,7.9,\"david\",3+6j]\n",
        "# for example we need to access david, so we can do as shown below\n",
        "a[3]\n",
        "# a[3] will give david\n",
        "#similarly if we need to access 7.9\n",
        "a[2]"
      ],
      "metadata": {
        "id": "jPPa_VjvMvyz"
      },
      "execution_count": null,
      "outputs": []
    },
    {
      "cell_type": "code",
      "source": [
        "#example of modifiying\n",
        "a=[\"anshik\",3,7.9,\"david\",3+6j]\n",
        "# for example we need to change david to milan we can do it\n",
        "a[3]=\"milan\"\n",
        "a\n",
        "#for example we need to change 3+6j to pw skill\n",
        "a[4]=\"pw skill\"\n",
        "a\n"
      ],
      "metadata": {
        "id": "uuZvadyOM6yc"
      },
      "execution_count": null,
      "outputs": []
    },
    {
      "cell_type": "code",
      "source": [
        "#example of deletion\n",
        "a=[\"anshik\",3,7.9,\"david\",3+6j]\n",
        "a.remove(\"anshik\")\n",
        "a\n",
        "a.remove(3+6j)\n",
        "a\n",
        "#through this remove() anshik and 3+6j is deleted"
      ],
      "metadata": {
        "id": "nk7dB8GKM7dj"
      },
      "execution_count": null,
      "outputs": []
    },
    {
      "cell_type": "markdown",
      "source": [
        "ue 4. Compare and contrast tuples and lists with examples.\n",
        "\n",
        "Comparing Tuples and Lists\n",
        "\n",
        "Tuples:\n",
        "\n",
        "1.Immutable (cannot be changed after creation).\n",
        "\n",
        "2.Ordered.\n",
        "\n",
        "3.typically used for fixed collections of items.\n",
        "\n",
        "Lists:\n",
        "\n",
        "1.Mutable (can be changed after creation).\n",
        "\n",
        "2.Ordered.\n",
        "\n",
        "3.Used when the collection is likely to change."
      ],
      "metadata": {
        "id": "jXzLTS_0NAdM"
      }
    },
    {
      "cell_type": "code",
      "source": [
        "# List (Mutable)\n",
        "my_list = ['apple', 'banana', 'cherry']\n",
        "my_list.append('date')\n",
        "print(my_list)\n",
        "\n",
        "# Tuple (Immutable)\n",
        "my_tuple = ('apple', 'banana', 'cherry')"
      ],
      "metadata": {
        "id": "P1VALxDNNF2l"
      },
      "execution_count": null,
      "outputs": []
    },
    {
      "cell_type": "markdown",
      "source": [
        "Que 5.Describe the key features of sets and provide examples of their use.\n",
        "\n",
        "Key Features of Sets in Python are:-\n",
        "\n",
        "1.Unordered: Elements have no specific order.\n",
        "\n",
        "2.No Duplicates: Sets automatically remove duplicates.\n",
        "\n",
        "Mutable: Elements can be added or removed."
      ],
      "metadata": {
        "id": "jKJtcffENJxk"
      }
    },
    {
      "cell_type": "code",
      "source": [
        "#unordered\n",
        "my_set = {1, 2, 3, 4}\n",
        "print(my_set)"
      ],
      "metadata": {
        "id": "hJ2KQ3-RNNCQ"
      },
      "execution_count": null,
      "outputs": []
    },
    {
      "cell_type": "code",
      "source": [
        "#duplicate removed\n",
        "a={5,6,7,5,6}\n",
        "a"
      ],
      "metadata": {
        "id": "YQAnKshqNPEA"
      },
      "execution_count": null,
      "outputs": []
    },
    {
      "cell_type": "code",
      "source": [
        "#mutable\n",
        "my_set = {1, 2, 3}\n",
        "my_set.add(4)\n",
        "print(my_set)"
      ],
      "metadata": {
        "id": "VRjoe7MINRnw"
      },
      "execution_count": null,
      "outputs": []
    },
    {
      "cell_type": "markdown",
      "source": [
        "QUE 6 .Discuss the use cases of tuples and sets in Python programming\n",
        "\n",
        "Use Cases of Tuples in Python:\n",
        "\n",
        "1.Immutable Data: Tuples are used when you need a collection of items that should not be changed. For example, coordinates, RGB values, or configuration settings.\n",
        "\n",
        "2.Dictionary Keys: Tuples can be used as keys in dictionaries since they are immutable and hashable.\n",
        "\n",
        "3.Function Arguments: Useful for returning multiple values from a function or passing multiple parameters as a single tuple.\n",
        "\n",
        "4.Efficient Memory Usage: Tuples consume less memory and are faster to create and access than lists, making them ideal for read-only collections.\n",
        "\n",
        "Use Cases of Sets in Python:\n",
        "\n",
        "1.Removing Duplicates: Sets are ideal for removing duplicate items from a list or collection.\n",
        "\n",
        "2.Membership Testing: Fast O(1) time complexity for checking whether an element exists in the set.\n",
        "\n",
        "3.Set Operations: Useful for performing mathematical operations like union, intersection, and difference between two collections."
      ],
      "metadata": {
        "id": "Ys01VntpNTsA"
      }
    },
    {
      "cell_type": "code",
      "source": [
        "\n",
        "#tuples\n",
        "coordinates = (45.0, 93.0)\n",
        "coordinates"
      ],
      "metadata": {
        "id": "ChTLm2GQNXA5"
      },
      "execution_count": null,
      "outputs": []
    },
    {
      "cell_type": "code",
      "source": [
        "#set\n",
        "unique_ids = {101, 102, 103}\n",
        "unique_ids"
      ],
      "metadata": {
        "id": "XP6J2nAvNbJU"
      },
      "execution_count": null,
      "outputs": []
    },
    {
      "cell_type": "markdown",
      "source": [
        "Que.7 Describe how to add. modify, and delete items in a dictionary with examples\n",
        "\n",
        "Adding Items to a Dictionary: You can add new key-value pairs to a dictionary by assigning a value to a new key.\n",
        "\n",
        "Modifying Items in a Dictionary: You can modify the value associated with an existing key by reassigning a new value to that key.\n",
        "\n",
        "Deleting Items from a Dictionary: del statement: Deletes a key-value pair from the dictionary.\n",
        "\n"
      ],
      "metadata": {
        "id": "EULdrWjxNdlU"
      }
    },
    {
      "cell_type": "code",
      "source": [
        "# Creating an empty dictionary\n",
        "my_dict = {}\n",
        "\n",
        "# Adding items\n",
        "my_dict['name'] = 'abhijeet'\n",
        "my_dict['age'] = 23\n",
        "print(my_dict)"
      ],
      "metadata": {
        "id": "QG6uQaeINf_0"
      },
      "execution_count": null,
      "outputs": []
    },
    {
      "cell_type": "code",
      "source": [
        "# modifying items in a dictionary\n",
        "\n",
        "my_dict = {'name': 'abhijeet', 'age': 22}\n",
        "\n",
        "# Modifying existing items\n",
        "my_dict['age'] = 23\n",
        "print(my_dict)\n"
      ],
      "metadata": {
        "id": "9AiWtZ8XNlms"
      },
      "execution_count": null,
      "outputs": []
    },
    {
      "cell_type": "code",
      "source": [
        "#Deleting Items from a Dictionary\n",
        "my_dict = {'name': 'abhijeet', 'age': 23, 'city': 'mumbai'}\n",
        "\n",
        "# Deleting an item using del\n",
        "del my_dict['city']\n",
        "print(my_dict)"
      ],
      "metadata": {
        "id": "8rdG5rvvNnw8"
      },
      "execution_count": null,
      "outputs": []
    },
    {
      "cell_type": "markdown",
      "source": [
        "QUE 8. Discuss the importance of dictionary keys being ummutable and provide examples.\n",
        "\n",
        "Importance of Dictionary Keys Being Immutable in Python In Python, dictionary keys must be immutable because of how dictionaries are structured internally. Python dictionaries are implemented using a hash table, where keys are hashed to determine where their associated values are stored. For this to work reliably, the key's hash value must remain consistent, which is only possible if the key itself does not change—hence, it must be immutable.\n",
        "\n",
        "Hashability: Dictionary keys are hashed to allow for efficient lookups, insertions, and deletions. Immutable objects like strings, integers, and tuples are hashable, meaning their contents and hash value cannot change once set. Mutable objects like lists and dictionaries are not hashable because their contents can be altered, which would change the hash value and break dictionary operations.\n",
        "\n",
        "Consistency: If dictionary keys were mutable, changing the key after insertion would make it impossible to retrieve the corresponding value because the hash value would change. The dictionary would no longer be able to track the key correctly.\n",
        "\n",
        "Efficient Lookups: The hashing mechanism relies on consistent key values to enable O(1) time complexity for lookups. Using mutable keys would make lookups inefficient and error-prone because the location in the hash table might not match the modified key"
      ],
      "metadata": {
        "id": "qF-e_GbgNob8"
      }
    },
    {
      "cell_type": "code",
      "source": [
        "# Valid keys: strings and integers\n",
        "person = {'name': 'abhijeet', 'age': 23}\n",
        "print(person['name'])\n"
      ],
      "metadata": {
        "id": "Lb-PRXUeNrz2"
      },
      "execution_count": null,
      "outputs": []
    }
  ]
}